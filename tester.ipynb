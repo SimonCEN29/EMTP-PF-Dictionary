{
 "cells": [
  {
   "cell_type": "code",
   "execution_count": 7,
   "id": "f4843ae3",
   "metadata": {},
   "outputs": [
    {
     "name": "stdout",
     "output_type": "stream",
     "text": [
      "C:\\Git Codes\\output.csv\n"
     ]
    }
   ],
   "source": [
    "import csv\n",
    "from pathlib import Path\n",
    "\n",
    "csv_path = r\"C:\\Git Codes\" + \"\\\\output.csv\"\n",
    "csv_path = Path(csv_path)\n",
    "\n",
    "with csv_path.open(\"w\", newline=\"\", encoding=\"utf-8\") as f:\n",
    "    row = [\"FullName\", \"Name\"]\n",
    "    writer = csv.writer(f)\n",
    "    writer.writerow(row)\n",
    "\n",
    "\n",
    "with csv_path.open(\"a\", newline=\"\", encoding=\"utf-8\") as f:\n",
    "    writer = csv.writer(f)\n",
    "    writer.writerow(row)\n",
    "\n",
    "print(csv_path)"
   ]
  }
 ],
 "metadata": {
  "kernelspec": {
   "display_name": ".venv",
   "language": "python",
   "name": "python3"
  },
  "language_info": {
   "codemirror_mode": {
    "name": "ipython",
    "version": 3
   },
   "file_extension": ".py",
   "mimetype": "text/x-python",
   "name": "python",
   "nbconvert_exporter": "python",
   "pygments_lexer": "ipython3",
   "version": "3.10.11"
  }
 },
 "nbformat": 4,
 "nbformat_minor": 5
}
